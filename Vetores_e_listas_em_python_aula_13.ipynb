{
  "nbformat": 4,
  "nbformat_minor": 0,
  "metadata": {
    "colab": {
      "provenance": [],
      "authorship_tag": "ABX9TyPpMyhX6NX+c0P4XS4EMr1t",
      "include_colab_link": true
    },
    "kernelspec": {
      "name": "python3",
      "display_name": "Python 3"
    },
    "language_info": {
      "name": "python"
    }
  },
  "cells": [
    {
      "cell_type": "markdown",
      "metadata": {
        "id": "view-in-github",
        "colab_type": "text"
      },
      "source": [
        "<a href=\"https://colab.research.google.com/github/Larabeatrizsz/20241-algoritimos-estruturas-dados-larasimoes/blob/main/Vetores_e_listas_em_python_aula_13.ipynb\" target=\"_parent\"><img src=\"https://colab.research.google.com/assets/colab-badge.svg\" alt=\"Open In Colab\"/></a>"
      ]
    },
    {
      "cell_type": "code",
      "execution_count": 3,
      "metadata": {
        "colab": {
          "base_uri": "https://localhost:8080/"
        },
        "id": "sn0c_wnpfD-Y",
        "outputId": "01b6a2b5-65e5-4551-9ece-ed13a14c304c"
      },
      "outputs": [
        {
          "output_type": "stream",
          "name": "stdout",
          "text": [
            "Familia Revoredo\n",
            "Familia Menezes\n"
          ]
        }
      ],
      "source": [
        "#Considere um edifício com diversas famílias e/ou moradores por andar\n",
        "edificio_terreo = \"Familia Revoredo\"\n",
        "edificio_1o_andar = \"Familia Menezes\"\n",
        "edificio_2o_andar = \"Familia Martins\"\n",
        "edificio_3o_andar = \"Família Pinheiro\"\n",
        "\n",
        "#Como atribuir em localizacoes do vetor, abstraindo o andar\n",
        "edificio = [\n",
        "    edificio_terreo,\n",
        "    edificio_1o_andar,\n",
        "    edificio_2o_andar,\n",
        "    edificio_3o_andar\n",
        "]\n",
        "\n",
        "print(edificio[0])\n",
        "print(edificio[1])"
      ]
    },
    {
      "cell_type": "code",
      "source": [
        "my_words = [\"Dudes\", \"and\"]\n",
        "print(my_words[0])\n",
        "print(my_words[1])\n",
        "my_words.append(\"Bettys\")\n",
        "print(my_words[2])\n"
      ],
      "metadata": {
        "colab": {
          "base_uri": "https://localhost:8080/"
        },
        "id": "nwlR8NCRhaXr",
        "outputId": "759e813c-fc0c-4e28-e8c5-4f2fb772569d"
      },
      "execution_count": 5,
      "outputs": [
        {
          "output_type": "stream",
          "name": "stdout",
          "text": [
            "Dudes\n",
            "and\n",
            "Bettys\n"
          ]
        }
      ]
    },
    {
      "cell_type": "code",
      "source": [
        "#lista vazia\n",
        "lista = []\n",
        "\n",
        "#uma lista com três notas\n",
        "notas = [7.5,9,8.3]\n",
        "\n",
        "#Acessar uma nota\n",
        "print(notas[0])\n",
        "\n",
        "#modificar a primeira nota\n",
        "notas[1] = 8.7\n",
        "print(notas[1])"
      ],
      "metadata": {
        "colab": {
          "base_uri": "https://localhost:8080/"
        },
        "id": "8gi9pW5fiRHn",
        "outputId": "bb6a96e8-f333-4070-fa22-ca5f92784995"
      },
      "execution_count": 11,
      "outputs": [
        {
          "output_type": "stream",
          "name": "stdout",
          "text": [
            "7.5\n",
            "8.7\n"
          ]
        }
      ]
    },
    {
      "cell_type": "code",
      "source": [
        "#Calcule a média de 5 notas\n",
        "notas = [6,7,5,8,9]\n",
        "soma = 0 #acumulador\n",
        "x = 0 #iteração\n",
        "while(x<5):\n",
        "    soma = soma + notas[x]\n",
        "    #simplificando em python\n",
        "    soma += notas[x]\n",
        "\n",
        "    #Impressão para depuração\n",
        "    #print(x)\n",
        "    #print(soma)\n",
        "\n",
        "    #controle da iteração\n",
        "    #x = x + 1 é equivalente a x +=1\n",
        "    x += 1\n",
        "print(\"Média: %5.2f\" % (soma/x))\n"
      ],
      "metadata": {
        "colab": {
          "base_uri": "https://localhost:8080/"
        },
        "id": "gZYHip6Ejhwc",
        "outputId": "ef943cd9-eeb1-4a94-b449-08f967aa09cb"
      },
      "execution_count": 13,
      "outputs": [
        {
          "output_type": "stream",
          "name": "stdout",
          "text": [
            "Média: 14.00\n"
          ]
        }
      ]
    }
  ]
}