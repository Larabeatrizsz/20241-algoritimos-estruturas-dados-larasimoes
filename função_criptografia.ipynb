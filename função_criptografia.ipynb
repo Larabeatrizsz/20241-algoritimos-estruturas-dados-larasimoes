{
  "nbformat": 4,
  "nbformat_minor": 0,
  "metadata": {
    "colab": {
      "provenance": [],
      "authorship_tag": "ABX9TyP4UtSY9OhXaNgi2k3vx2yT",
      "include_colab_link": true
    },
    "kernelspec": {
      "name": "python3",
      "display_name": "Python 3"
    },
    "language_info": {
      "name": "python"
    }
  },
  "cells": [
    {
      "cell_type": "markdown",
      "metadata": {
        "id": "view-in-github",
        "colab_type": "text"
      },
      "source": [
        "<a href=\"https://colab.research.google.com/github/Larabeatrizsz/20241-algoritimos-estruturas-dados-larasimoes/blob/main/fun%C3%A7%C3%A3o_criptografia.ipynb\" target=\"_parent\"><img src=\"https://colab.research.google.com/assets/colab-badge.svg\" alt=\"Open In Colab\"/></a>"
      ]
    },
    {
      "cell_type": "code",
      "execution_count": 15,
      "metadata": {
        "colab": {
          "base_uri": "https://localhost:8080/"
        },
        "id": "PqxzXEg4X-Tn",
        "outputId": "9e5b811a-268f-49b7-c7a1-299abb1ff05e"
      },
      "outputs": [
        {
          "output_type": "stream",
          "name": "stdout",
          "text": [
            "Digite a mensagem para criptografar:TEMOS\n",
            "Mensagem criptografada cT\\^b\n"
          ]
        }
      ],
      "source": [
        "#Criptografia\n",
        "def criptografia(msg):\n",
        "  s = ''\n",
        "#Cifra de césar (adaptada)\n",
        "  for i in msg:\n",
        "    s += chr(ord(i)+15)\n",
        "  return s\n",
        "\n",
        "\n",
        "def descriptografar(msg):\n",
        "  s = ''\n",
        "  for i in msg:\n",
        "    s += chr(ord(i)-15)\n",
        "  return s\n",
        "\n",
        "mensagem = input(\"Digite a mensagem para criptografar:\")\n",
        "mensagem_criptografada = criptografia(mensagem)\n",
        "print(\"Mensagem criptografada\", mensagem_criptografada)\n",
        "\n",
        "\n"
      ]
    }
  ]
}